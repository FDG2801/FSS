{
 "cells": [
  {
   "cell_type": "code",
   "execution_count": 1,
   "metadata": {},
   "outputs": [],
   "source": [
    "import sys\n",
    "sys.path.append(\"..\")\n",
    "\n",
    "import torch as tr\n",
    "import torch.nn.functional as F\n",
    "import numpy as np\n",
    "import pickle as pk\n",
    "from dataset.voc import VOCSegmentation"
   ]
  },
  {
   "cell_type": "code",
   "execution_count": 2,
   "metadata": {},
   "outputs": [],
   "source": [
    "datadir = \"../data/voc\"\n",
    "split_dir = \"../data/voc/split\"\n",
    "data_root = \"../data/voc/dataset\""
   ]
  },
  {
   "cell_type": "code",
   "execution_count": 3,
   "metadata": {},
   "outputs": [],
   "source": [
    "val_size = 500\n",
    "\n",
    "all_labels = np.genfromtxt(datadir+'/labels.txt', delimiter='\\t', usecols=1, dtype='str')\n",
    "seen_classes = np.load(datadir+'/split/seen_cls.npy')\n",
    "seenval_classes = np.load(datadir+'/split/val_cls.npy')\n",
    "train_classes = np.asarray(np.concatenate([seen_classes, seenval_classes]),dtype=int)\n",
    "novel_classes = np.load(datadir+'/split/novel_cls.npy')\n",
    "class_emb = np.concatenate([pk.load(open(datadir+'/word_vectors/fasttext.pkl', \"rb\")), pk.load(open(datadir+'/word_vectors/word2vec.pkl', \"rb\"))], axis = 1)\n",
    "class_emb = F.normalize(tr.tensor(class_emb), p=2, dim=1)#.cuda()\n",
    "train_images = np.load(datadir+'/split/train_list.npy')\n",
    "val_images = train_images[-val_size:]\n",
    "test_images = np.load(datadir+'/split/test_list.npy')\n",
    "inverse_dict = pk.load(open(datadir+'/split/inverse_dict_train.pkl', 'rb'))"
   ]
  },
  {
   "cell_type": "code",
   "execution_count": 4,
   "metadata": {},
   "outputs": [],
   "source": [
    "voc = VOCSegmentation(root=\"../data/voc/dataset/\", split_root=\"../data/voc/split/\")"
   ]
  },
  {
   "cell_type": "code",
   "execution_count": 10,
   "metadata": {},
   "outputs": [],
   "source": [
    "for i in range(len(voc)):\n",
    "    img, lbl = voc[i]\n",
    "    lbl = np.array(lbl)\n",
    "    cls = np.unique(lbl)\n",
    "    for c in cls:\n",
    "        if c != 255 and i not in inverse_dict[c]:\n",
    "            print(f\"Error for class {c} in image {i}\")"
   ]
  },
  {
   "cell_type": "code",
   "execution_count": null,
   "metadata": {},
   "outputs": [],
   "source": []
  }
 ],
 "metadata": {
  "kernelspec": {
   "display_name": "Python 3",
   "language": "python",
   "name": "python3"
  },
  "language_info": {
   "codemirror_mode": {
    "name": "ipython",
    "version": 3
   },
   "file_extension": ".py",
   "mimetype": "text/x-python",
   "name": "python",
   "nbconvert_exporter": "python",
   "pygments_lexer": "ipython3",
   "version": "3.6.9"
  }
 },
 "nbformat": 4,
 "nbformat_minor": 2
}
